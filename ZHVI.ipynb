{
 "cells": [
  {
   "cell_type": "code",
   "execution_count": 172,
   "metadata": {},
   "outputs": [],
   "source": [
    "import pandas as pd\n",
    "import matplotlib.pyplot as plt\n",
    "from statsmodels.tsa.seasonal import seasonal_decompose\n",
    "from statsmodels.graphics.tsaplots import plot_acf\n",
    "from statsmodels.graphics.tsaplots import plot_pacf\n",
    "from sklearn.model_selection import train_test_split"
   ]
  },
  {
   "cell_type": "markdown",
   "metadata": {},
   "source": [
    "# Notes"
   ]
  },
  {
   "cell_type": "markdown",
   "metadata": {},
   "source": [
    "#### zhvi  (zillow home value index)\n",
    "\n",
    "Time series is generate forecast for future values of ZHVI \n",
    "forecasting special case of predicting future values as accurately as possible based on past values\n",
    "* How well we understand factors that contribute. to things we are trying to predict ?\n",
    "\n",
    "Time series data usually collected over monthly , so not alot of data points in general\n"
   ]
  },
  {
   "cell_type": "markdown",
   "metadata": {},
   "source": [
    "1.  inventory\n",
    "2.  supply-demand\n",
    "3. is act of predicting  zhvi affects  this ? ( forecast-> humans react-> inturn affects forecast)\n",
    "Linear model\n",
    "Arima model - base line model for time series,flexible\n",
    "long term trend and sudden shocks\n",
    "easily extended to -\n",
    "* seasonal arima ,\n",
    "* Arima with Exogenous predictors with independent x variables\n",
    "* vector ARIMA models\n",
    "auto regressive + integrated+ moving average (explains sudden shock)\n",
    "self regression   - corelation between. same  variable and  itself\n",
    "exponential smoothing model,regressing Y on itself\n",
    "Recurrent neural networks ( RNN) - suitable for sequence data\n",
    "hyper parameter\n",
    "p - how many previous Y I  want to put in my model\n",
    "q - How many previous errors I want to put in my model\n",
    "d-differencing paramter - how much do we difference time series by.\n",
    "AIC -"
   ]
  },
  {
   "cell_type": "code",
   "execution_count": null,
   "metadata": {},
   "outputs": [],
   "source": [
    "df =  pd.read_csv(\"./Metro_zhvi_uc_sfrcondo_tier_0.33_0.67_month.csv\")\n",
    "df.head()"
   ]
  },
  {
   "cell_type": "code",
   "execution_count": null,
   "metadata": {},
   "outputs": [],
   "source": [
    "#df['StateName'].value_counts()"
   ]
  },
  {
   "cell_type": "code",
   "execution_count": null,
   "metadata": {},
   "outputs": [],
   "source": [
    "df =df[df['RegionName'] =='Denver, CO' ]"
   ]
  },
  {
   "cell_type": "code",
   "execution_count": null,
   "metadata": {},
   "outputs": [],
   "source": [
    "df\n",
    "df.dtypes"
   ]
  },
  {
   "cell_type": "code",
   "execution_count": null,
   "metadata": {},
   "outputs": [],
   "source": [
    "## transforming the columns to rows for date column\n",
    "df =df.melt(id_vars=[\"RegionID\", \"SizeRank\", \"RegionName\",\"RegionType\",\"StateName\"], \n",
    "    var_name=\"Month\", \n",
    "    value_name=\"zhvi\")"
   ]
  },
  {
   "cell_type": "code",
   "execution_count": null,
   "metadata": {},
   "outputs": [],
   "source": [
    "df.head()"
   ]
  },
  {
   "cell_type": "code",
   "execution_count": null,
   "metadata": {},
   "outputs": [],
   "source": [
    "# converting the Month column datatype from object to datetime\n",
    "df[\"Month\"] =pd.to_datetime(df[\"Month\"])"
   ]
  },
  {
   "cell_type": "code",
   "execution_count": null,
   "metadata": {},
   "outputs": [],
   "source": [
    "df.set_index('Month',inplace =True )"
   ]
  },
  {
   "cell_type": "code",
   "execution_count": null,
   "metadata": {},
   "outputs": [],
   "source": [
    "df.index.min(),df.index.max()"
   ]
  },
  {
   "cell_type": "code",
   "execution_count": null,
   "metadata": {},
   "outputs": [],
   "source": [
    "df.sort_index(inplace =True)"
   ]
  },
  {
   "cell_type": "code",
   "execution_count": null,
   "metadata": {},
   "outputs": [],
   "source": [
    "df['2018']"
   ]
  },
  {
   "cell_type": "code",
   "execution_count": null,
   "metadata": {},
   "outputs": [],
   "source": [
    "# rolling mean is mean of moving windoes  across time periods\n",
    "#df.rolling(3).mean()"
   ]
  },
  {
   "cell_type": "code",
   "execution_count": null,
   "metadata": {},
   "outputs": [],
   "source": [
    "#step. 3 :  lets. create timeplot to inspect manually trend, seasonality\n",
    "plt.figure(figsize=(12,8))\n",
    "plt.plot(df['zhvi'],label= 'zhvi')\n",
    "#plt.plot(df['zhvi'].rolling(12).mean(),label= 'zhvi mean for year')\n",
    "plt.legend()"
   ]
  },
  {
   "cell_type": "markdown",
   "metadata": {},
   "source": [
    "#. stationarity ? - statistical properties of data should not change with time \n",
    "-dicky- fuller test tells you if the data is stationary.\n",
    "If our time series is stationary, then we do not need to difference\n",
    "which means  the  series should not have trend\n",
    "If our series is not stationary we diff it once or twice and then model it.\n",
    "One way to check no stationarity is check is the diff looks like noise."
   ]
  },
  {
   "cell_type": "code",
   "execution_count": null,
   "metadata": {},
   "outputs": [],
   "source": [
    "#plt.plot(df['zhvi'])\n",
    "plt.plot(df['zhvi'].diff()) #. diffing once , we still see upward trend so lets diff again\n",
    "plt.plot(df['zhvi'].diff().diff())\n",
    "#plt.plot(df['zhvi'].diff().diff())"
   ]
  },
  {
   "cell_type": "code",
   "execution_count": null,
   "metadata": {},
   "outputs": [],
   "source": [
    "linear regression model  with time series data\n",
    "identify trend -  Long term  increase or decrase in. data ( linear , exponential)\n",
    "sesonality- affected by factors that take on a fixed and known frequency\n",
    "(examples - consumer spending/retail sale - halloween , swim ware , gym membership , agriculture,resturant sale)\n",
    "autoco-relation and partial auto co-relation plot"
   ]
  },
  {
   "cell_type": "code",
   "execution_count": null,
   "metadata": {},
   "outputs": [],
   "source": [
    "#step 4: decompose time series in to  trend ,seasonal and  residual components\n",
    "decomp =seasonal_decompose(df['zhvi']) # ,model ='multiplicative')\n",
    "decomp.plot();"
   ]
  },
  {
   "cell_type": "code",
   "execution_count": null,
   "metadata": {},
   "outputs": [],
   "source": [
    "decomp.seasonal"
   ]
  },
  {
   "cell_type": "code",
   "execution_count": 167,
   "metadata": {},
   "outputs": [],
   "source": [
    "# auotp-corelation - corelation of the variable with lagged version of itself\n",
    "df['zhvi_lag1'] = df['zhvi'].shift()\n",
    "df['zhvi_lag2'] = df['zhvi'].shift().shift()\n",
    "df['zhvi_lag3'] = df['zhvi'].shift().shift().shift()"
   ]
  },
  {
   "cell_type": "code",
   "execution_count": 168,
   "metadata": {},
   "outputs": [
    {
     "data": {
      "text/html": [
       "<div>\n",
       "<style scoped>\n",
       "    .dataframe tbody tr th:only-of-type {\n",
       "        vertical-align: middle;\n",
       "    }\n",
       "\n",
       "    .dataframe tbody tr th {\n",
       "        vertical-align: top;\n",
       "    }\n",
       "\n",
       "    .dataframe thead th {\n",
       "        text-align: right;\n",
       "    }\n",
       "</style>\n",
       "<table border=\"1\" class=\"dataframe\">\n",
       "  <thead>\n",
       "    <tr style=\"text-align: right;\">\n",
       "      <th></th>\n",
       "      <th>zhvi</th>\n",
       "      <th>zhvi_lag13</th>\n",
       "      <th>zhvi_lag1</th>\n",
       "      <th>zhvi_lag2</th>\n",
       "      <th>zhvi_lag3</th>\n",
       "    </tr>\n",
       "    <tr>\n",
       "      <th>Month</th>\n",
       "      <th></th>\n",
       "      <th></th>\n",
       "      <th></th>\n",
       "      <th></th>\n",
       "      <th></th>\n",
       "    </tr>\n",
       "  </thead>\n",
       "  <tbody>\n",
       "    <tr>\n",
       "      <th>2021-02-28</th>\n",
       "      <td>506159.498560</td>\n",
       "      <td>452616.041153</td>\n",
       "      <td>496996.113987</td>\n",
       "      <td>489883.464574</td>\n",
       "      <td>483522.347657</td>\n",
       "    </tr>\n",
       "    <tr>\n",
       "      <th>2021-03-31</th>\n",
       "      <td>515529.039213</td>\n",
       "      <td>453786.470495</td>\n",
       "      <td>506159.498560</td>\n",
       "      <td>496996.113987</td>\n",
       "      <td>489883.464574</td>\n",
       "    </tr>\n",
       "    <tr>\n",
       "      <th>2021-04-30</th>\n",
       "      <td>526986.194323</td>\n",
       "      <td>457425.940656</td>\n",
       "      <td>515529.039213</td>\n",
       "      <td>506159.498560</td>\n",
       "      <td>496996.113987</td>\n",
       "    </tr>\n",
       "    <tr>\n",
       "      <th>2021-05-31</th>\n",
       "      <td>543624.512488</td>\n",
       "      <td>460707.946654</td>\n",
       "      <td>526986.194323</td>\n",
       "      <td>515529.039213</td>\n",
       "      <td>506159.498560</td>\n",
       "    </tr>\n",
       "    <tr>\n",
       "      <th>2021-06-30</th>\n",
       "      <td>557101.229867</td>\n",
       "      <td>460252.990289</td>\n",
       "      <td>543624.512488</td>\n",
       "      <td>526986.194323</td>\n",
       "      <td>515529.039213</td>\n",
       "    </tr>\n",
       "  </tbody>\n",
       "</table>\n",
       "</div>"
      ],
      "text/plain": [
       "                     zhvi     zhvi_lag13      zhvi_lag1      zhvi_lag2  \\\n",
       "Month                                                                    \n",
       "2021-02-28  506159.498560  452616.041153  496996.113987  489883.464574   \n",
       "2021-03-31  515529.039213  453786.470495  506159.498560  496996.113987   \n",
       "2021-04-30  526986.194323  457425.940656  515529.039213  506159.498560   \n",
       "2021-05-31  543624.512488  460707.946654  526986.194323  515529.039213   \n",
       "2021-06-30  557101.229867  460252.990289  543624.512488  526986.194323   \n",
       "\n",
       "                zhvi_lag3  \n",
       "Month                      \n",
       "2021-02-28  483522.347657  \n",
       "2021-03-31  489883.464574  \n",
       "2021-04-30  496996.113987  \n",
       "2021-05-31  506159.498560  \n",
       "2021-06-30  515529.039213  "
      ]
     },
     "execution_count": 168,
     "metadata": {},
     "output_type": "execute_result"
    }
   ],
   "source": [
    "df.tail()"
   ]
  },
  {
   "cell_type": "code",
   "execution_count": 165,
   "metadata": {},
   "outputs": [],
   "source": [
    "df =df.drop(columns= ['RegionID','SizeRank','RegionName','RegionType','StateName'])"
   ]
  },
  {
   "cell_type": "code",
   "execution_count": 166,
   "metadata": {},
   "outputs": [
    {
     "data": {
      "text/html": [
       "<div>\n",
       "<style scoped>\n",
       "    .dataframe tbody tr th:only-of-type {\n",
       "        vertical-align: middle;\n",
       "    }\n",
       "\n",
       "    .dataframe tbody tr th {\n",
       "        vertical-align: top;\n",
       "    }\n",
       "\n",
       "    .dataframe thead th {\n",
       "        text-align: right;\n",
       "    }\n",
       "</style>\n",
       "<table border=\"1\" class=\"dataframe\">\n",
       "  <thead>\n",
       "    <tr style=\"text-align: right;\">\n",
       "      <th></th>\n",
       "      <th>zhvi</th>\n",
       "      <th>zhvi_lag13</th>\n",
       "    </tr>\n",
       "    <tr>\n",
       "      <th>Month</th>\n",
       "      <th></th>\n",
       "      <th></th>\n",
       "    </tr>\n",
       "  </thead>\n",
       "  <tbody>\n",
       "    <tr>\n",
       "      <th>2021-02-28</th>\n",
       "      <td>506159.498560</td>\n",
       "      <td>452616.041153</td>\n",
       "    </tr>\n",
       "    <tr>\n",
       "      <th>2021-03-31</th>\n",
       "      <td>515529.039213</td>\n",
       "      <td>453786.470495</td>\n",
       "    </tr>\n",
       "    <tr>\n",
       "      <th>2021-04-30</th>\n",
       "      <td>526986.194323</td>\n",
       "      <td>457425.940656</td>\n",
       "    </tr>\n",
       "    <tr>\n",
       "      <th>2021-05-31</th>\n",
       "      <td>543624.512488</td>\n",
       "      <td>460707.946654</td>\n",
       "    </tr>\n",
       "    <tr>\n",
       "      <th>2021-06-30</th>\n",
       "      <td>557101.229867</td>\n",
       "      <td>460252.990289</td>\n",
       "    </tr>\n",
       "  </tbody>\n",
       "</table>\n",
       "</div>"
      ],
      "text/plain": [
       "                     zhvi     zhvi_lag13\n",
       "Month                                   \n",
       "2021-02-28  506159.498560  452616.041153\n",
       "2021-03-31  515529.039213  453786.470495\n",
       "2021-04-30  526986.194323  457425.940656\n",
       "2021-05-31  543624.512488  460707.946654\n",
       "2021-06-30  557101.229867  460252.990289"
      ]
     },
     "execution_count": 166,
     "metadata": {},
     "output_type": "execute_result"
    }
   ],
   "source": [
    "df.tail()"
   ]
  },
  {
   "cell_type": "code",
   "execution_count": 94,
   "metadata": {},
   "outputs": [
    {
     "data": {
      "text/html": [
       "<div>\n",
       "<style scoped>\n",
       "    .dataframe tbody tr th:only-of-type {\n",
       "        vertical-align: middle;\n",
       "    }\n",
       "\n",
       "    .dataframe tbody tr th {\n",
       "        vertical-align: top;\n",
       "    }\n",
       "\n",
       "    .dataframe thead th {\n",
       "        text-align: right;\n",
       "    }\n",
       "</style>\n",
       "<table border=\"1\" class=\"dataframe\">\n",
       "  <thead>\n",
       "    <tr style=\"text-align: right;\">\n",
       "      <th></th>\n",
       "      <th>zhvi</th>\n",
       "      <th>zhvi_lag1</th>\n",
       "      <th>zhvi_lag2</th>\n",
       "      <th>zhvi_lag3</th>\n",
       "    </tr>\n",
       "  </thead>\n",
       "  <tbody>\n",
       "    <tr>\n",
       "      <th>zhvi</th>\n",
       "      <td>1.000000</td>\n",
       "      <td>0.999777</td>\n",
       "      <td>0.999221</td>\n",
       "      <td>0.998439</td>\n",
       "    </tr>\n",
       "    <tr>\n",
       "      <th>zhvi_lag1</th>\n",
       "      <td>0.999777</td>\n",
       "      <td>1.000000</td>\n",
       "      <td>0.999788</td>\n",
       "      <td>0.999300</td>\n",
       "    </tr>\n",
       "    <tr>\n",
       "      <th>zhvi_lag2</th>\n",
       "      <td>0.999221</td>\n",
       "      <td>0.999788</td>\n",
       "      <td>1.000000</td>\n",
       "      <td>0.999817</td>\n",
       "    </tr>\n",
       "    <tr>\n",
       "      <th>zhvi_lag3</th>\n",
       "      <td>0.998439</td>\n",
       "      <td>0.999300</td>\n",
       "      <td>0.999817</td>\n",
       "      <td>1.000000</td>\n",
       "    </tr>\n",
       "  </tbody>\n",
       "</table>\n",
       "</div>"
      ],
      "text/plain": [
       "               zhvi  zhvi_lag1  zhvi_lag2  zhvi_lag3\n",
       "zhvi       1.000000   0.999777   0.999221   0.998439\n",
       "zhvi_lag1  0.999777   1.000000   0.999788   0.999300\n",
       "zhvi_lag2  0.999221   0.999788   1.000000   0.999817\n",
       "zhvi_lag3  0.998439   0.999300   0.999817   1.000000"
      ]
     },
     "execution_count": 94,
     "metadata": {},
     "output_type": "execute_result"
    }
   ],
   "source": [
    "df.corr()"
   ]
  },
  {
   "cell_type": "code",
   "execution_count": 99,
   "metadata": {},
   "outputs": [
    {
     "data": {
      "image/png": "[encoded data removed]",
      "text/plain": [
       "<Figure size 432x288 with 1 Axes>"
      ]
     },
     "metadata": {
      "needs_background": "light"
     },
     "output_type": "display_data"
    }
   ],
   "source": [
    "#auto corelation plot  for 20 lags period\n",
    "plot_acf(df['zhvi'],lags=20);"
   ]
  },
  {
   "cell_type": "markdown",
   "metadata": {},
   "source": [
    "#whats lags do I want to put in linear regression? - 20 variables  as input ?\n",
    "(multicolianrity - Yt co-related with Yt-1 , \n",
    "20 data points -overfitting, \n",
    "when we introduced lag of 20 , introduced 20 NAs, rendering these unusable. we usually collect monthly, yearly -  so we will be getting rid of  20 months/years worth of data.\n",
    "Partial auto corelation is a tweaked  co-relation  between\n",
    "how much additional stuff yt-2 gives us inaddition to Yt-1"
   ]
  },
  {
   "cell_type": "code",
   "execution_count": 139,
   "metadata": {},
   "outputs": [
    {
     "name": "stderr",
     "output_type": "stream",
     "text": [
      "/Users/mybiyani/opt/anaconda3/lib/python3.7/site-packages/statsmodels/regression/linear_model.py:1406: RuntimeWarning: invalid value encountered in sqrt\n",
      "  return rho, np.sqrt(sigmasq)\n"
     ]
    },
    {
     "data": {
      "image/png": "[encoded data removed]",
      "text/plain": [
       "<Figure size 432x288 with 1 Axes>"
      ]
     },
     "metadata": {
      "needs_background": "light"
     },
     "output_type": "display_data"
    }
   ],
   "source": [
    "plot_pacf(decomp.seasonal,lags=20);"
   ]
  },
  {
   "cell_type": "code",
   "execution_count": 154,
   "metadata": {},
   "outputs": [],
   "source": [
    "df['zhvi_lag13'] = df['zhvi'].shift(13)"
   ]
  },
  {
   "cell_type": "markdown",
   "metadata": {},
   "source": [
    "ARIMA(p,d,q )- auto regression + integration + moving average\n",
    "p-how many lags\n",
    "d-  how many times you diff to get the data stationary\n",
    "q -persion of moving average"
   ]
  },
  {
   "cell_type": "code",
   "execution_count": 174,
   "metadata": {},
   "outputs": [
    {
     "data": {
      "text/html": [
       "<div>\n",
       "<style scoped>\n",
       "    .dataframe tbody tr th:only-of-type {\n",
       "        vertical-align: middle;\n",
       "    }\n",
       "\n",
       "    .dataframe tbody tr th {\n",
       "        vertical-align: top;\n",
       "    }\n",
       "\n",
       "    .dataframe thead th {\n",
       "        text-align: right;\n",
       "    }\n",
       "</style>\n",
       "<table border=\"1\" class=\"dataframe\">\n",
       "  <thead>\n",
       "    <tr style=\"text-align: right;\">\n",
       "      <th></th>\n",
       "      <th>zhvi</th>\n",
       "      <th>zhvi_lag13</th>\n",
       "      <th>zhvi_lag1</th>\n",
       "      <th>zhvi_lag2</th>\n",
       "      <th>zhvi_lag3</th>\n",
       "    </tr>\n",
       "    <tr>\n",
       "      <th>Month</th>\n",
       "      <th></th>\n",
       "      <th></th>\n",
       "      <th></th>\n",
       "      <th></th>\n",
       "      <th></th>\n",
       "    </tr>\n",
       "  </thead>\n",
       "  <tbody>\n",
       "    <tr>\n",
       "      <th>2021-02-28</th>\n",
       "      <td>506159.498560</td>\n",
       "      <td>452616.041153</td>\n",
       "      <td>496996.113987</td>\n",
       "      <td>489883.464574</td>\n",
       "      <td>483522.347657</td>\n",
       "    </tr>\n",
       "    <tr>\n",
       "      <th>2021-03-31</th>\n",
       "      <td>515529.039213</td>\n",
       "      <td>453786.470495</td>\n",
       "      <td>506159.498560</td>\n",
       "      <td>496996.113987</td>\n",
       "      <td>489883.464574</td>\n",
       "    </tr>\n",
       "    <tr>\n",
       "      <th>2021-04-30</th>\n",
       "      <td>526986.194323</td>\n",
       "      <td>457425.940656</td>\n",
       "      <td>515529.039213</td>\n",
       "      <td>506159.498560</td>\n",
       "      <td>496996.113987</td>\n",
       "    </tr>\n",
       "    <tr>\n",
       "      <th>2021-05-31</th>\n",
       "      <td>543624.512488</td>\n",
       "      <td>460707.946654</td>\n",
       "      <td>526986.194323</td>\n",
       "      <td>515529.039213</td>\n",
       "      <td>506159.498560</td>\n",
       "    </tr>\n",
       "    <tr>\n",
       "      <th>2021-06-30</th>\n",
       "      <td>557101.229867</td>\n",
       "      <td>460252.990289</td>\n",
       "      <td>543624.512488</td>\n",
       "      <td>526986.194323</td>\n",
       "      <td>515529.039213</td>\n",
       "    </tr>\n",
       "  </tbody>\n",
       "</table>\n",
       "</div>"
      ],
      "text/plain": [
       "                     zhvi     zhvi_lag13      zhvi_lag1      zhvi_lag2  \\\n",
       "Month                                                                    \n",
       "2021-02-28  506159.498560  452616.041153  496996.113987  489883.464574   \n",
       "2021-03-31  515529.039213  453786.470495  506159.498560  496996.113987   \n",
       "2021-04-30  526986.194323  457425.940656  515529.039213  506159.498560   \n",
       "2021-05-31  543624.512488  460707.946654  526986.194323  515529.039213   \n",
       "2021-06-30  557101.229867  460252.990289  543624.512488  526986.194323   \n",
       "\n",
       "                zhvi_lag3  \n",
       "Month                      \n",
       "2021-02-28  483522.347657  \n",
       "2021-03-31  489883.464574  \n",
       "2021-04-30  496996.113987  \n",
       "2021-05-31  506159.498560  \n",
       "2021-06-30  515529.039213  "
      ]
     },
     "execution_count": 174,
     "metadata": {},
     "output_type": "execute_result"
    }
   ],
   "source": [
    "df.tail()"
   ]
  },
  {
   "cell_type": "markdown",
   "metadata": {},
   "source": [
    "train- test -split\n",
    "training set - first 80% data\n",
    "testing set - last 20 % data"
   ]
  },
  {
   "cell_type": "code",
   "execution_count": 186,
   "metadata": {},
   "outputs": [],
   "source": [
    "X_train,X_test, y_train ,y_test = train_test_split(df.drop(columns= \"zhvi\"),df[\"zhvi\"],test_size=0.2,shuffle =False)"
   ]
  },
  {
   "cell_type": "code",
   "execution_count": 187,
   "metadata": {},
   "outputs": [
    {
     "name": "stdout",
     "output_type": "stream",
     "text": [
      "(244, 4)\n",
      "(62, 4)\n",
      "(244, 4)\n",
      "(62, 4)\n"
     ]
    }
   ],
   "source": [
    "print(X_train.shape)\n",
    "print(X_test.shape)\n",
    "print(x_train.shape)\n",
    "print(x_test.shape)"
   ]
  },
  {
   "cell_type": "code",
   "execution_count": 188,
   "metadata": {},
   "outputs": [
    {
     "name": "stderr",
     "output_type": "stream",
     "text": [
      "/Users/mybiyani/opt/anaconda3/lib/python3.7/site-packages/numpy/core/fromnumeric.py:2495: FutureWarning: Method .ptp is deprecated and will be removed in a future version. Use numpy.ptp instead.\n",
      "  return ptp(axis=axis, out=out, **kwargs)\n"
     ]
    }
   ],
   "source": [
    "import statsmodels.api as sm\n",
    "X_train =sm.add_constant(X_train)\n",
    "X_test =sm.add_constant(X_test)"
   ]
  },
  {
   "cell_type": "code",
   "execution_count": 194,
   "metadata": {},
   "outputs": [],
   "source": [
    "X_train.dropna(inplace =True)\n",
    "y_train =y_train[X_train.index]\n",
    "lm= sm.OLS(y_train,X_train)\n",
    "lm_results=lm.fit()\n",
    "print(lm_results.summary())\n",
    "##### we   dont care of  inference so much"
   ]
  },
  {
   "cell_type": "code",
   "execution_count": 203,
   "metadata": {},
   "outputs": [
    {
     "data": {
      "text/plain": [
       "DatetimeIndex(['1997-02-28', '1997-03-31', '1997-04-30', '1997-05-31',\n",
       "               '1997-06-30', '1997-07-31', '1997-08-31', '1997-09-30',\n",
       "               '1997-10-31', '1997-11-30',\n",
       "               ...\n",
       "               '2015-07-31', '2015-08-31', '2015-09-30', '2015-10-31',\n",
       "               '2015-11-30', '2015-12-31', '2016-01-31', '2016-02-29',\n",
       "               '2016-03-31', '2016-04-30'],\n",
       "              dtype='datetime64[ns]', name='Month', length=231, freq=None)"
      ]
     },
     "execution_count": 203,
     "metadata": {},
     "output_type": "execute_result"
    }
   ],
   "source": [
    "X_train.index"
   ]
  },
  {
   "cell_type": "code",
   "execution_count": 207,
   "metadata": {},
   "outputs": [],
   "source": [
    "y_pred=lm_results.predict(X_test)"
   ]
  },
  {
   "cell_type": "code",
   "execution_count": 204,
   "metadata": {},
   "outputs": [],
   "source": [
    "from sklearn.metrics import r2_score, mean_squared_error"
   ]
  },
  {
   "cell_type": "code",
   "execution_count": 208,
   "metadata": {},
   "outputs": [
    {
     "data": {
      "text/plain": [
       "0.9975928735132625"
      ]
     },
     "execution_count": 208,
     "metadata": {},
     "output_type": "execute_result"
    }
   ],
   "source": [
    "r2_score(y_test,y_pred)\n",
    "# 99% of variability is explained by model, doesn't mean will. always hold  true\n",
    "# if something like 9/11, covid can change that"
   ]
  },
  {
   "cell_type": "code",
   "execution_count": 220,
   "metadata": {},
   "outputs": [
    {
     "data": {
      "text/plain": [
       "2056.2407252547946"
      ]
     },
     "execution_count": 220,
     "metadata": {},
     "output_type": "execute_result"
    }
   ],
   "source": [
    "mean_squared_error(y_test,y_pred) ** 0.5\n",
    "#  on avg  how off far. away we are from our predicted results  from actual result"
   ]
  },
  {
   "cell_type": "code",
   "execution_count": 221,
   "metadata": {},
   "outputs": [
    {
     "data": {
      "text/plain": [
       "(array([100000., 150000., 200000., 250000., 300000., 350000., 400000.,\n",
       "        450000., 500000., 550000., 600000.]),\n",
       " <a list of 11 Text yticklabel objects>)"
      ]
     },
     "execution_count": 221,
     "metadata": {},
     "output_type": "execute_result"
    },
    {
     "data": {
      "image/png": "[encoded data removed]",
      "text/plain": [
       "<Figure size 1440x720 with 1 Axes>"
      ]
     },
     "metadata": {
      "needs_background": "light"
     },
     "output_type": "display_data"
    }
   ],
   "source": [
    "plt.figure(figsize=(20,10))\n",
    "plt.plot(y_train.index,y_train.values,color= 'blue')\n",
    "plt.plot(y_test.index,y_test.values,color= 'orange')\n",
    "plt.plot(y_pred.index,y_pred.values,color= 'Green')\n",
    "plt.title(label = 'Monthly Home prices forecasting for Denver from feb 1997 - June 2021')\n",
    "plt.xticks(fontsize=20)\n",
    "plt.yticks(fontsize=20)"
   ]
  },
  {
   "cell_type": "code",
   "execution_count": 225,
   "metadata": {},
   "outputs": [
    {
     "data": {
      "text/html": [
       "<div>\n",
       "<style scoped>\n",
       "    .dataframe tbody tr th:only-of-type {\n",
       "        vertical-align: middle;\n",
       "    }\n",
       "\n",
       "    .dataframe tbody tr th {\n",
       "        vertical-align: top;\n",
       "    }\n",
       "\n",
       "    .dataframe thead th {\n",
       "        text-align: right;\n",
       "    }\n",
       "</style>\n",
       "<table border=\"1\" class=\"dataframe\">\n",
       "  <thead>\n",
       "    <tr style=\"text-align: right;\">\n",
       "      <th></th>\n",
       "      <th>zhvi</th>\n",
       "      <th>zhvi_lag13</th>\n",
       "      <th>zhvi_lag1</th>\n",
       "      <th>zhvi_lag2</th>\n",
       "      <th>zhvi_lag3</th>\n",
       "      <th>first_diff_zhvi</th>\n",
       "    </tr>\n",
       "    <tr>\n",
       "      <th>Month</th>\n",
       "      <th></th>\n",
       "      <th></th>\n",
       "      <th></th>\n",
       "      <th></th>\n",
       "      <th></th>\n",
       "      <th></th>\n",
       "    </tr>\n",
       "  </thead>\n",
       "  <tbody>\n",
       "    <tr>\n",
       "      <th>1996-01-31</th>\n",
       "      <td>146471.157108</td>\n",
       "      <td>NaN</td>\n",
       "      <td>NaN</td>\n",
       "      <td>NaN</td>\n",
       "      <td>NaN</td>\n",
       "      <td>NaN</td>\n",
       "    </tr>\n",
       "    <tr>\n",
       "      <th>1996-02-29</th>\n",
       "      <td>147445.505164</td>\n",
       "      <td>NaN</td>\n",
       "      <td>146471.157108</td>\n",
       "      <td>NaN</td>\n",
       "      <td>NaN</td>\n",
       "      <td>NaN</td>\n",
       "    </tr>\n",
       "    <tr>\n",
       "      <th>1996-03-31</th>\n",
       "      <td>148167.249693</td>\n",
       "      <td>NaN</td>\n",
       "      <td>147445.505164</td>\n",
       "      <td>146471.157108</td>\n",
       "      <td>NaN</td>\n",
       "      <td>-252.603527</td>\n",
       "    </tr>\n",
       "    <tr>\n",
       "      <th>1996-04-30</th>\n",
       "      <td>148930.142613</td>\n",
       "      <td>NaN</td>\n",
       "      <td>148167.249693</td>\n",
       "      <td>147445.505164</td>\n",
       "      <td>146471.157108</td>\n",
       "      <td>41.148391</td>\n",
       "    </tr>\n",
       "    <tr>\n",
       "      <th>1996-05-31</th>\n",
       "      <td>149767.491533</td>\n",
       "      <td>NaN</td>\n",
       "      <td>148930.142613</td>\n",
       "      <td>148167.249693</td>\n",
       "      <td>147445.505164</td>\n",
       "      <td>74.455999</td>\n",
       "    </tr>\n",
       "  </tbody>\n",
       "</table>\n",
       "</div>"
      ],
      "text/plain": [
       "                     zhvi  zhvi_lag13      zhvi_lag1      zhvi_lag2  \\\n",
       "Month                                                                 \n",
       "1996-01-31  146471.157108         NaN            NaN            NaN   \n",
       "1996-02-29  147445.505164         NaN  146471.157108            NaN   \n",
       "1996-03-31  148167.249693         NaN  147445.505164  146471.157108   \n",
       "1996-04-30  148930.142613         NaN  148167.249693  147445.505164   \n",
       "1996-05-31  149767.491533         NaN  148930.142613  148167.249693   \n",
       "\n",
       "                zhvi_lag3  first_diff_zhvi  \n",
       "Month                                       \n",
       "1996-01-31            NaN              NaN  \n",
       "1996-02-29            NaN              NaN  \n",
       "1996-03-31            NaN      -252.603527  \n",
       "1996-04-30  146471.157108        41.148391  \n",
       "1996-05-31  147445.505164        74.455999  "
      ]
     },
     "execution_count": 225,
     "metadata": {},
     "output_type": "execute_result"
    }
   ],
   "source": [
    "df[\"first_diff_zhvi\"] = df[\"zhvi\"].diff(1)\n",
    "df[\"first_diff_zhvi\"] = df[\"zhvi\"].diff(1).diff(1)\n",
    "df.head()"
   ]
  },
  {
   "cell_type": "markdown",
   "metadata": {},
   "source": [
    "Requirement for ARIMA model -  The data needs to be stationary - no systematic changes in the the data , that means. no trend and no seasonality"
   ]
  },
  {
   "cell_type": "code",
   "execution_count": null,
   "metadata": {},
   "outputs": [],
   "source": [
    "augmented dicky fuller test -"
   ]
  }
 ],
 "metadata": {
  "kernelspec": {
   "display_name": "Python 3",
   "language": "python",
   "name": "python3"
  },
  "language_info": {
   "codemirror_mode": {
    "name": "ipython",
    "version": 3
   },
   "file_extension": ".py",
   "mimetype": "text/x-python",
   "name": "python",
   "nbconvert_exporter": "python",
   "pygments_lexer": "ipython3",
   "version": "3.7.4"
  }
 },
 "nbformat": 4,
 "nbformat_minor": 2
}
